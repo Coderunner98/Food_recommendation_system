{
 "cells": [
  {
   "cell_type": "code",
   "execution_count": 20,
   "metadata": {},
   "outputs": [],
   "source": [
    "import pandas as pd\n",
    "import numpy as np\n",
    "from scipy.sparse import csr_matrix\n",
    "from sklearn.neighbors import NearestNeighbors\n",
    "import matplotlib.pyplot as plt\n",
    "import seaborn as sns"
   ]
  },
  {
   "cell_type": "code",
   "execution_count": 21,
   "metadata": {
    "scrolled": false
   },
   "outputs": [
    {
     "name": "stdout",
     "output_type": "stream",
     "text": [
      "Requirement already satisfied: streamlit in c:\\users\\hp\\anaconda3\\envs\\learn-env\\lib\\site-packages (1.13.0)\n",
      "Requirement already satisfied: pydeck>=0.1.dev5 in c:\\users\\hp\\anaconda3\\envs\\learn-env\\lib\\site-packages (from streamlit) (0.8.0b3)\n",
      "Requirement already satisfied: tornado>=5.0 in c:\\users\\hp\\anaconda3\\envs\\learn-env\\lib\\site-packages (from streamlit) (6.0.4)\n",
      "Requirement already satisfied: gitpython!=3.1.19 in c:\\users\\hp\\anaconda3\\envs\\learn-env\\lib\\site-packages (from streamlit) (3.1.28)\n",
      "Requirement already satisfied: pandas>=0.21.0 in c:\\users\\hp\\anaconda3\\envs\\learn-env\\lib\\site-packages (from streamlit) (1.1.3)\n",
      "Requirement already satisfied: blinker>=1.0.0 in c:\\users\\hp\\anaconda3\\envs\\learn-env\\lib\\site-packages (from streamlit) (1.5)\n",
      "Requirement already satisfied: watchdog; platform_system != \"Darwin\" in c:\\users\\hp\\anaconda3\\envs\\learn-env\\lib\\site-packages (from streamlit) (2.1.9)\n",
      "Requirement already satisfied: validators>=0.2 in c:\\users\\hp\\anaconda3\\envs\\learn-env\\lib\\site-packages (from streamlit) (0.20.0)\n",
      "Requirement already satisfied: tzlocal>=1.1 in c:\\users\\hp\\anaconda3\\envs\\learn-env\\lib\\site-packages (from streamlit) (4.2)\n",
      "Requirement already satisfied: typing-extensions>=3.10.0.0 in c:\\users\\hp\\anaconda3\\envs\\learn-env\\lib\\site-packages (from streamlit) (4.4.0)\n",
      "Requirement already satisfied: pympler>=0.9 in c:\\users\\hp\\anaconda3\\envs\\learn-env\\lib\\site-packages (from streamlit) (1.0.1)\n",
      "Requirement already satisfied: click>=7.0 in c:\\users\\hp\\anaconda3\\envs\\learn-env\\lib\\site-packages (from streamlit) (7.1.2)\n",
      "Requirement already satisfied: cachetools>=4.0 in c:\\users\\hp\\anaconda3\\envs\\learn-env\\lib\\site-packages (from streamlit) (4.1.1)\n",
      "Requirement already satisfied: rich>=10.11.0 in c:\\users\\hp\\anaconda3\\envs\\learn-env\\lib\\site-packages (from streamlit) (12.6.0)\n",
      "Requirement already satisfied: requests>=2.4 in c:\\users\\hp\\anaconda3\\envs\\learn-env\\lib\\site-packages (from streamlit) (2.24.0)\n",
      "Requirement already satisfied: importlib-metadata>=1.4 in c:\\users\\hp\\anaconda3\\envs\\learn-env\\lib\\site-packages (from streamlit) (2.0.0)\n",
      "Requirement already satisfied: protobuf!=3.20.2,<4,>=3.12 in c:\\users\\hp\\anaconda3\\envs\\learn-env\\lib\\site-packages (from streamlit) (3.20.3)\n",
      "Requirement already satisfied: python-dateutil in c:\\users\\hp\\anaconda3\\envs\\learn-env\\lib\\site-packages (from streamlit) (2.8.1)\n",
      "Requirement already satisfied: toml in c:\\users\\hp\\anaconda3\\envs\\learn-env\\lib\\site-packages (from streamlit) (0.10.2)\n",
      "Requirement already satisfied: pyarrow>=4.0 in c:\\users\\hp\\anaconda3\\envs\\learn-env\\lib\\site-packages (from streamlit) (9.0.0)\n",
      "Requirement already satisfied: altair>=3.2.0 in c:\\users\\hp\\anaconda3\\envs\\learn-env\\lib\\site-packages (from streamlit) (4.2.0)\n",
      "Requirement already satisfied: semver in c:\\users\\hp\\anaconda3\\envs\\learn-env\\lib\\site-packages (from streamlit) (2.13.0)\n",
      "Requirement already satisfied: pillow>=6.2.0 in c:\\users\\hp\\anaconda3\\envs\\learn-env\\lib\\site-packages (from streamlit) (8.0.0)\n",
      "Requirement already satisfied: packaging>=14.1 in c:\\users\\hp\\anaconda3\\envs\\learn-env\\lib\\site-packages (from streamlit) (20.4)\n",
      "Requirement already satisfied: numpy in c:\\users\\hp\\anaconda3\\envs\\learn-env\\lib\\site-packages (from streamlit) (1.18.5)\n",
      "Requirement already satisfied: jinja2>=2.10.1 in c:\\users\\hp\\anaconda3\\envs\\learn-env\\lib\\site-packages (from pydeck>=0.1.dev5->streamlit) (2.11.2)\n",
      "Requirement already satisfied: gitdb<5,>=4.0.1 in c:\\users\\hp\\anaconda3\\envs\\learn-env\\lib\\site-packages (from gitpython!=3.1.19->streamlit) (4.0.9)\n",
      "Requirement already satisfied: pytz>=2017.2 in c:\\users\\hp\\anaconda3\\envs\\learn-env\\lib\\site-packages (from pandas>=0.21.0->streamlit) (2020.1)\n",
      "Requirement already satisfied: decorator>=3.4.0 in c:\\users\\hp\\anaconda3\\envs\\learn-env\\lib\\site-packages (from validators>=0.2->streamlit) (4.4.2)\n",
      "Requirement already satisfied: tzdata; platform_system == \"Windows\" in c:\\users\\hp\\anaconda3\\envs\\learn-env\\lib\\site-packages (from tzlocal>=1.1->streamlit) (2022.4)\n",
      "Requirement already satisfied: backports.zoneinfo; python_version < \"3.9\" in c:\\users\\hp\\anaconda3\\envs\\learn-env\\lib\\site-packages (from tzlocal>=1.1->streamlit) (0.2.1)\n",
      "Requirement already satisfied: pytz-deprecation-shim in c:\\users\\hp\\anaconda3\\envs\\learn-env\\lib\\site-packages (from tzlocal>=1.1->streamlit) (0.1.0.post0)\n",
      "Requirement already satisfied: pygments<3.0.0,>=2.6.0 in c:\\users\\hp\\anaconda3\\envs\\learn-env\\lib\\site-packages (from rich>=10.11.0->streamlit) (2.7.1)\n",
      "Requirement already satisfied: commonmark<0.10.0,>=0.9.0 in c:\\users\\hp\\anaconda3\\envs\\learn-env\\lib\\site-packages (from rich>=10.11.0->streamlit) (0.9.1)\n",
      "Requirement already satisfied: certifi>=2017.4.17 in c:\\users\\hp\\anaconda3\\envs\\learn-env\\lib\\site-packages (from requests>=2.4->streamlit) (2021.10.8)\n",
      "Requirement already satisfied: chardet<4,>=3.0.2 in c:\\users\\hp\\anaconda3\\envs\\learn-env\\lib\\site-packages (from requests>=2.4->streamlit) (3.0.4)\n",
      "Requirement already satisfied: idna<3,>=2.5 in c:\\users\\hp\\anaconda3\\envs\\learn-env\\lib\\site-packages (from requests>=2.4->streamlit) (2.10)\n",
      "Requirement already satisfied: urllib3!=1.25.0,!=1.25.1,<1.26,>=1.21.1 in c:\\users\\hp\\anaconda3\\envs\\learn-env\\lib\\site-packages (from requests>=2.4->streamlit) (1.25.10)\n",
      "Requirement already satisfied: zipp>=0.5 in c:\\users\\hp\\anaconda3\\envs\\learn-env\\lib\\site-packages (from importlib-metadata>=1.4->streamlit) (3.3.0)\n",
      "Requirement already satisfied: six>=1.5 in c:\\users\\hp\\anaconda3\\envs\\learn-env\\lib\\site-packages (from python-dateutil->streamlit) (1.15.0)\n",
      "Requirement already satisfied: entrypoints in c:\\users\\hp\\anaconda3\\envs\\learn-env\\lib\\site-packages (from altair>=3.2.0->streamlit) (0.3)\n",
      "Requirement already satisfied: jsonschema>=3.0 in c:\\users\\hp\\anaconda3\\envs\\learn-env\\lib\\site-packages (from altair>=3.2.0->streamlit) (3.2.0)\n",
      "Requirement already satisfied: toolz in c:\\users\\hp\\anaconda3\\envs\\learn-env\\lib\\site-packages (from altair>=3.2.0->streamlit) (0.12.0)\n",
      "Requirement already satisfied: pyparsing>=2.0.2 in c:\\users\\hp\\anaconda3\\envs\\learn-env\\lib\\site-packages (from packaging>=14.1->streamlit) (2.4.7)\n",
      "Requirement already satisfied: MarkupSafe>=0.23 in c:\\users\\hp\\anaconda3\\envs\\learn-env\\lib\\site-packages (from jinja2>=2.10.1->pydeck>=0.1.dev5->streamlit) (1.1.1)\n",
      "Requirement already satisfied: smmap<6,>=3.0.1 in c:\\users\\hp\\anaconda3\\envs\\learn-env\\lib\\site-packages (from gitdb<5,>=4.0.1->gitpython!=3.1.19->streamlit) (5.0.0)\n",
      "Requirement already satisfied: attrs>=17.4.0 in c:\\users\\hp\\anaconda3\\envs\\learn-env\\lib\\site-packages (from jsonschema>=3.0->altair>=3.2.0->streamlit) (20.2.0)\n",
      "Requirement already satisfied: pyrsistent>=0.14.0 in c:\\users\\hp\\anaconda3\\envs\\learn-env\\lib\\site-packages (from jsonschema>=3.0->altair>=3.2.0->streamlit) (0.17.3)\n",
      "Requirement already satisfied: setuptools in c:\\users\\hp\\anaconda3\\envs\\learn-env\\lib\\site-packages (from jsonschema>=3.0->altair>=3.2.0->streamlit) (50.3.0.post20201103)\n"
     ]
    }
   ],
   "source": [
    "!pip install streamlit"
   ]
  },
  {
   "cell_type": "code",
   "execution_count": 22,
   "metadata": {},
   "outputs": [
    {
     "name": "stderr",
     "output_type": "stream",
     "text": [
      "Usage: streamlit run [OPTIONS] TARGET [ARGS]...\n",
      "\n",
      "Error: Invalid value: File does not exist: app.py\n"
     ]
    }
   ],
   "source": [
    "! streamlit run app.py"
   ]
  },
  {
   "cell_type": "code",
   "execution_count": 23,
   "metadata": {},
   "outputs": [],
   "source": [
    "food = pd.read_csv(\"food.csv\")\n",
    "ratings = pd.read_csv(\"ratings.csv\")"
   ]
  },
  {
   "cell_type": "code",
   "execution_count": 24,
   "metadata": {},
   "outputs": [],
   "source": [
    "dataset = ratings.pivot_table(index='Food_ID',columns='User_ID',values='Rating')"
   ]
  },
  {
   "cell_type": "code",
   "execution_count": 25,
   "metadata": {},
   "outputs": [],
   "source": [
    "dataset.fillna(0,inplace=True)"
   ]
  },
  {
   "cell_type": "code",
   "execution_count": 26,
   "metadata": {},
   "outputs": [],
   "source": [
    "csr_dataset = csr_matrix(dataset.values)\n",
    "dataset.reset_index(inplace=True)"
   ]
  },
  {
   "cell_type": "code",
   "execution_count": 27,
   "metadata": {},
   "outputs": [],
   "source": [
    "dataset = ratings.pivot_table(index='Food_ID',columns='User_ID',values='Rating')"
   ]
  },
  {
   "cell_type": "code",
   "execution_count": 28,
   "metadata": {},
   "outputs": [],
   "source": [
    "\n",
    "dataset.fillna(0,inplace=True)"
   ]
  },
  {
   "cell_type": "code",
   "execution_count": 29,
   "metadata": {},
   "outputs": [],
   "source": [
    "csr_dataset = csr_matrix(dataset.values)\n",
    "dataset.reset_index(inplace=True)"
   ]
  },
  {
   "cell_type": "code",
   "execution_count": 30,
   "metadata": {},
   "outputs": [],
   "source": [
    "def food_recommendation(Food_Name):\n",
    "    n = 10\n",
    "    FoodList = food[food['Name'].str.contains(Food_Name)]  \n",
    "    if len(FoodList):        \n",
    "        Foodi= FoodList.iloc[0]['Food_ID']\n",
    "        Foodi = dataset[dataset['Food_ID'] == Foodi].index[0]\n",
    "        distances , indices = model.kneighbors(csr_dataset[Foodi],n_neighbors=n+1)    \n",
    "        Food_indices = sorted(list(zip(indices.squeeze().tolist(),distances.squeeze().tolist())),key=lambda x: x[1])[:0:-1]\n",
    "        Recommendations = []\n",
    "        for val in Food_indices:\n",
    "            Foodi = dataset.iloc[val[0]]['Food_ID']\n",
    "            i = food[food['Food_ID'] == Foodi].index\n",
    "            Recommendations.append({'Name':food.iloc[i]['Name'].values[0],'Distance':val[1]})\n",
    "        df = pd.DataFrame(Recommendations,index=range(1,n+1))\n",
    "        return df['Name']\n",
    "    else:\n",
    "        return \"No Similar Foods.\""
   ]
  },
  {
   "cell_type": "code",
   "execution_count": 31,
   "metadata": {
    "scrolled": true
   },
   "outputs": [],
   "source": [
    "#remove sparsity\n",
    "csr_dataset =csr_matrix(dataset.values)\n",
    "dataset.reset_index(inplace=True)"
   ]
  },
  {
   "cell_type": "code",
   "execution_count": 32,
   "metadata": {},
   "outputs": [
    {
     "data": {
      "text/plain": [
       "NearestNeighbors(algorithm='brute', metric='cosine', n_jobs=-1, n_neighbors=20)"
      ]
     },
     "execution_count": 32,
     "metadata": {},
     "output_type": "execute_result"
    }
   ],
   "source": [
    "##using algorithm\n",
    "model = NearestNeighbors(metric='cosine', algorithm='brute', n_neighbors=20, n_jobs=-1)\n",
    "model.fit(csr_dataset)"
   ]
  },
  {
   "cell_type": "code",
   "execution_count": 34,
   "metadata": {},
   "outputs": [
    {
     "data": {
      "text/plain": [
       "1             ragi coconut ladoo (laddu)\n",
       "2               sticky rum chicken wings\n",
       "3                peri peri chicken satay\n",
       "4                andhra crab meat masala\n",
       "5                   vegetable bruschetta\n",
       "6                            chilli fish\n",
       "7                   methi chicken masala\n",
       "8     ghee roast chicken dosa quesadilla\n",
       "9                steam bunny chicken bao\n",
       "10                  dates and nuts ladoo\n",
       "Name: Name, dtype: object"
      ]
     },
     "execution_count": 34,
     "metadata": {},
     "output_type": "execute_result"
    }
   ],
   "source": [
    "food_recommendation('cashew nut cookies')"
   ]
  },
  {
   "cell_type": "code",
   "execution_count": null,
   "metadata": {},
   "outputs": [],
   "source": []
  }
 ],
 "metadata": {
  "kernelspec": {
   "display_name": "Python 3",
   "language": "python",
   "name": "python3"
  },
  "language_info": {
   "codemirror_mode": {
    "name": "ipython",
    "version": 3
   },
   "file_extension": ".py",
   "mimetype": "text/x-python",
   "name": "python",
   "nbconvert_exporter": "python",
   "pygments_lexer": "ipython3",
   "version": "3.8.5"
  }
 },
 "nbformat": 4,
 "nbformat_minor": 4
}
